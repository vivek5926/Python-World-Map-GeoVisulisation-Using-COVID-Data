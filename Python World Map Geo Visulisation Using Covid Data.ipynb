{
 "cells": [
  {
   "cell_type": "code",
   "execution_count": null,
   "metadata": {},
   "outputs": [],
   "source": [
    "import json\n",
    "import folium\n",
    "import requests\n",
    "import mimetypes\n",
    "import http.client\n",
    "import pandas as pd\n",
    "from folium.plugins import HeatMap\n",
    "from pandas.io.json import json_normalize"
   ]
  },
  {
   "cell_type": "code",
   "execution_count": null,
   "metadata": {},
   "outputs": [],
   "source": [
    "conn= http.client.HTTPSConnection(\"api.covid19api.con\")\n",
    "payload=''\n",
    "headers={}\n",
    "conn.request(\"GET\",\"/summary\",payload,headers)\n",
    "res=conn.getresponse()\n",
    "data=res.read().decode('UTF-8')"
   ]
  },
  {
   "cell_type": "code",
   "execution_count": null,
   "metadata": {},
   "outputs": [],
   "source": [
    "covidl=jason.loads(data)"
   ]
  },
  {
   "cell_type": "code",
   "execution_count": null,
   "metadata": {},
   "outputs": [],
   "source": [
    "df=pd.json_normalize(covidl['Countries'])\n",
    "df"
   ]
  },
  {
   "cell_type": "code",
   "execution_count": null,
   "metadata": {},
   "outputs": [],
   "source": [
    "covid2=df.drop(columns=['CountryCode','Slug','Date','Premium'],axis=1)\n",
    "covid2"
   ]
  },
  {
   "cell_type": "code",
   "execution_count": null,
   "metadata": {},
   "outputs": [],
   "source": [
    "m=folium.Map(titles=\"Stamen Terrain\",min_zoom=1.5)\n",
    "m"
   ]
  },
  {
   "cell_type": "code",
   "execution_count": null,
   "metadata": {},
   "outputs": [],
   "source": [
    "url='https://raw.githubusercontent.com/python-visualization/folium/master/examples/data'\n",
    "country_shapes=f'{url}/world-countries.json'"
   ]
  },
  {
   "cell_type": "code",
   "execution_count": null,
   "metadata": {},
   "outputs": [],
   "source": [
    "folium.Choropleth(\n",
    "    geo_data=country_shape,\n",
    "    min_zoom=2,\n",
    "    name='Covid-19',\n",
    "    data=covid2,\n",
    "    columns=['Country', 'TotalConfirmed'],\n",
    "    key_on='feature.properties.name',\n",
    "    fill_color='0rRd',\n",
    "    nan_fill_color='black',\n",
    "    legend_name='Total Confirmed Covid Cases',\n",
    ").add_to(m)\n",
    "m\n"
   ]
  },
  {
   "cell_type": "code",
   "execution_count": null,
   "metadata": {},
   "outputs": [],
   "source": [
    "covid2.update(covid2['TotalConfirmed'].map('Total Confirmed:{}'.format))\n",
    "covid2.update(covid2['TotalRecovered'].map('Total Recovered:{}'.format))"
   ]
  },
  {
   "cell_type": "code",
   "execution_count": null,
   "metadata": {},
   "outputs": [],
   "source": [
    "coordinates=pd.read_csv('https://raw.githubusercontent.com/VinitaSilaparasetty/covid-map/master/country-coordinates-world.csv')\n",
    "coordinates"
   ]
  },
  {
   "cell_type": "code",
   "execution_count": null,
   "metadata": {},
   "outputs": [],
   "source": [
    "covid_final=pd.merge(covid2,coordinates,on='country')"
   ]
  },
  {
   "cell_type": "code",
   "execution_count": null,
   "metadata": {},
   "outputs": [],
   "source": [
    "def plotDot(point):\n",
    "    folium.CircleMarker(location=[points.latitude,point.latitude],\n",
    "    radius=5,\n",
    "    weight=2,\n",
    "    popup=[point.Country,points.TotalConfirmed,points.TotalRecovered],\n",
    "    fill_color='#000000').add_to(m)"
   ]
  },
  {
   "cell_type": "code",
   "execution_count": null,
   "metadata": {},
   "outputs": [],
   "source": [
    "covid_final.apply(plotDot,axis=1)\n",
    "m.fit_bound(m.get_bounds())\n",
    "m"
   ]
  },
  {
   "cell_type": "code",
   "execution_count": null,
   "metadata": {},
   "outputs": [],
   "source": [
    "ml=folium.Map(tiles='StemenToner',min_zoom=2)\n",
    "ml"
   ]
  },
  {
   "cell_type": "code",
   "execution_count": null,
   "metadata": {},
   "outputs": [],
   "source": [
    "deathes=covid_final['TotalDeathes'].astype(float)"
   ]
  },
  {
   "cell_type": "code",
   "execution_count": null,
   "metadata": {},
   "outputs": [],
   "source": [
    "lat=covid_final['latitude'].astype(float)"
   ]
  },
  {
   "cell_type": "code",
   "execution_count": null,
   "metadata": {},
   "outputs": [],
   "source": [
    "lon=covid_final['longitude'].astype(float)"
   ]
  },
  {
   "cell_type": "code",
   "execution_count": null,
   "metadata": {},
   "outputs": [],
   "source": [
    "ml.add_child(HeatMap(zip(lat,lon,deathes),radius=0))"
   ]
  },
  {
   "cell_type": "code",
   "execution_count": null,
   "metadata": {},
   "outputs": [],
   "source": [
    "def plotDot(point):\n",
    "    folium.CircleMarker(location=[points.latitude,point.longitude],\n",
    "    redius=5,\n",
    "    weight=2,\n",
    "    popup=[point.Country.point.TotalDeaths],\n",
    "    fill_color='#000000').add_to(m1)\n",
    "covid_final.apply(plotDot,axis=1)\n",
    "m1.fit_bounds(m1.get_bounds())\n",
    "m1"
   ]
  },
  {
   "cell_type": "code",
   "execution_count": null,
   "metadata": {},
   "outputs": [],
   "source": []
  },
  {
   "cell_type": "code",
   "execution_count": null,
   "metadata": {},
   "outputs": [],
   "source": []
  },
  {
   "cell_type": "code",
   "execution_count": null,
   "metadata": {},
   "outputs": [],
   "source": []
  }
 ],
 "metadata": {
  "kernelspec": {
   "display_name": "Python 3",
   "language": "python",
   "name": "python3"
  },
  "language_info": {
   "codemirror_mode": {
    "name": "ipython",
    "version": 3
   },
   "file_extension": ".py",
   "mimetype": "text/x-python",
   "name": "python",
   "nbconvert_exporter": "python",
   "pygments_lexer": "ipython3",
   "version": "3.7.4"
  }
 },
 "nbformat": 4,
 "nbformat_minor": 2
}
